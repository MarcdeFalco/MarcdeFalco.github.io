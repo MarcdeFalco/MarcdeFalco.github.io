{
 "cells": [
  {
   "cell_type": "markdown",
   "metadata": {},
   "source": [
    "# Couplage maximal dans un graphe biparti\n",
    "\n",
    "!jupyterlink\n",
    "\n",
    "## Graphe biparti\n",
    "\n",
    "On va considérer ici un graphe biparti donné par une liste d’arêtes sous\n",
    "la forme `(source,but)`. Voici un exemple :"
   ],
   "id": "fc236abd-b2f8-40df-9ec3-9f7721192495"
  },
  {
   "cell_type": "code",
   "execution_count": null,
   "metadata": {},
   "outputs": [],
   "source": [
    "[ (0,3); (1,3); (1,4); (2,3); (2,4) ]"
   ],
   "id": "178a9576-b52d-4a7f-bad5-3f4b8582ed17"
  },
  {
   "cell_type": "markdown",
   "metadata": {},
   "source": [
    "En commençant à numéroter à 0, on peut donc supposer que le nombre de\n",
    "sommets est égal au plus grand entier apparaissant dans un couple plus\n",
    "un.\n",
    "\n",
    "**Question 1**\n",
    "\n",
    "Écrire une fonction `nombre_sommets : (int * int) list -> int` qui\n",
    "calcule ce nombre.\n",
    "\n",
    "<div class=\"ui styled accordion\"> <div class=\"title\">     <i class=\"dropdown icon\"></i>\n",
    "Réponse </div> <div class=\"content\">"
   ],
   "id": "814b1688-b528-4ea8-a133-da92831a2e86"
  },
  {
   "cell_type": "code",
   "execution_count": null,
   "metadata": {},
   "outputs": [],
   "source": [
    "let rec nombre_sommets l =\n",
    "    match l with\n",
    "    | [] -> 0\n",
    "    | (a,b)::q -> let n = nombre_sommets q in\n",
    "        max (1 + max a b) n\n"
   ],
   "id": "6a717822-8119-4bbe-987a-de3afc27616f"
  },
  {
   "cell_type": "markdown",
   "metadata": {},
   "source": [
    "</div> </div>"
   ],
   "id": "060e6b6e-aba5-4627-b1c8-6bd0670afdc8"
  },
  {
   "cell_type": "code",
   "execution_count": null,
   "metadata": {},
   "outputs": [],
   "source": [
    "assert(nombre_sommets [(0,3);(1,3);(1,4);(2,3);(2,4)] = 5);\n",
    "assert(nombre_sommets [(0,8);(0,7);(2,6);(2,9);(3,8);(4,8);(4,9);(5,11)] = 12);\n",
    "\"OK\"\n"
   ],
   "id": "d923b1e2-3653-4ac2-8cb6-965ca3a0590b"
  },
  {
   "cell_type": "markdown",
   "metadata": {},
   "source": [
    "On va maintenant récupérer la liste des premières composantes et la\n",
    "liste des secondes composantes **sans répétition**.\n",
    "\n",
    "Pour cela, on commence par écrire une fonction permettant de réaliser\n",
    "`t :: q` en omettant `t` en cas de répétition.\n",
    "\n",
    "**Question 2**\n",
    "\n",
    "Écrire une fonction `cons_uniq : 'a -> a list -> 'a list` telle que\n",
    "`cons_uniq t q` renvoie `t::q` si `t` n’est pas dans liste `q` et `q`\n",
    "sinon.\n",
    "\n",
    "<div class=\"ui styled accordion\"> <div class=\"title\">     <i class=\"dropdown icon\"></i>\n",
    "Réponse </div> <div class=\"content\">"
   ],
   "id": "509381ce-a6b0-407d-acd2-012054a5277c"
  },
  {
   "cell_type": "code",
   "execution_count": null,
   "metadata": {},
   "outputs": [],
   "source": [
    "let cons_uniq t q = \n",
    "    if List.mem t q\n",
    "    then q\n",
    "    else t::q\n"
   ],
   "id": "7f643b51-982d-42e9-924b-2392de23d0f1"
  },
  {
   "cell_type": "markdown",
   "metadata": {},
   "source": [
    "</div> </div>"
   ],
   "id": "122dbd1f-3e55-4daf-bcdc-a943e34ce398"
  },
  {
   "cell_type": "code",
   "execution_count": null,
   "metadata": {},
   "outputs": [],
   "source": [
    "assert(cons_uniq 0 [] = [0]);\n",
    "assert(cons_uniq 0 [0] = [0]);\n",
    "assert(cons_uniq 0 [1] = [0;1]);\n",
    "\"OK\"\n"
   ],
   "id": "be0bbe8f-9e0b-4355-8540-c3c4432a5101"
  },
  {
   "cell_type": "markdown",
   "metadata": {},
   "source": [
    "**Question 3**\n",
    "\n",
    "Écrire une fonction\n",
    "`separe_liste : (int * int) list -> int list * int list` qui prend en\n",
    "argument une liste de couple d’entiers et renvoie le couple des listes\n",
    "**sans répétitions** des premières et secondes composantes.\n",
    "\n",
    "<div class=\"ui styled accordion\"> <div class=\"title\">     <i class=\"dropdown icon\"></i>\n",
    "Réponse </div> <div class=\"content\">"
   ],
   "id": "743ca52a-fc54-4b99-ae36-c2e64f1dd197"
  },
  {
   "cell_type": "code",
   "execution_count": null,
   "metadata": {},
   "outputs": [],
   "source": [
    "let rec separe_liste l =\n",
    "    match l with\n",
    "    | [] -> [], []\n",
    "    | (a,b)::q -> let l1, l2 = separe_liste q in\n",
    "        (cons_uniq a l1, cons_uniq b l2)\n"
   ],
   "id": "2b172b05-b984-46e0-9232-cd4ffdce3790"
  },
  {
   "cell_type": "markdown",
   "metadata": {},
   "source": [
    "</div> </div>"
   ],
   "id": "cf93d069-e566-4d06-8655-d81234a81269"
  },
  {
   "cell_type": "code",
   "execution_count": null,
   "metadata": {},
   "outputs": [],
   "source": [
    "assert(separe_liste [(0,3);(1,3);(1,4);(2,3);(2,4)] = ([0;1;2],[3;4]));\n",
    "assert(separe_liste [(0,8);(0,7);(2,6);(2,9);(3,8);(4,8);(4,9);(5,11)] = \n",
    "    ([0;2;3;4;5],[7;6;8;9;11]));\n",
    "\"OK\"\n"
   ],
   "id": "5510dc5d-0237-4679-8e9a-97827289f7c5"
  },
  {
   "cell_type": "markdown",
   "metadata": {},
   "source": [
    "**Question 4**\n",
    "\n",
    "Écrire une fonction `intersection : 'a list -> 'a list -> 'a list` qui\n",
    "prend en arguments deux listes sans répétitions et renvoie une liste\n",
    "contenant les éléments présents dans les deux listes.\n",
    "\n",
    "<div class=\"ui styled accordion\"> <div class=\"title\">     <i class=\"dropdown icon\"></i>\n",
    "Réponse </div> <div class=\"content\">"
   ],
   "id": "44d6b952-1b21-408f-b95d-286450ac8834"
  },
  {
   "cell_type": "code",
   "execution_count": null,
   "metadata": {},
   "outputs": [],
   "source": [
    "let rec intersection l1 l2 =\n",
    "    List.filter (fun x -> List.mem x l2) l1\n"
   ],
   "id": "f040b88d-9af7-457d-bbc5-81671a2c08f2"
  },
  {
   "cell_type": "markdown",
   "metadata": {},
   "source": [
    "</div> </div>"
   ],
   "id": "1673ea37-66b5-4a22-96cc-13cf5b51741a"
  },
  {
   "cell_type": "code",
   "execution_count": null,
   "metadata": {},
   "outputs": [],
   "source": [
    "assert(intersection [1;2;3] [0;1] = [1]);\n",
    "assert(intersection [1;2;3] [1;2] = [1;2]);\n",
    "assert(intersection [1;2;3] [4;5] = []);\n",
    "assert(intersection [] [3;4] = []);\n",
    "assert(intersection [1;2;3] [] = []);\n",
    "\"OK\"\n"
   ],
   "id": "67064ce9-7ee3-47ba-8073-7342f6303819"
  },
  {
   "cell_type": "markdown",
   "metadata": {},
   "source": [
    "**Question 5**\n",
    "\n",
    "En déduire une fonction `biparti : (int * int) list -> bool` qui vérifie\n",
    "qu’une liste d’arêtes permet effectivement de représenter un graphe\n",
    "biparti où les sommets sont d’un côté les premières composantes et de\n",
    "l’autre les secondes.\n",
    "\n",
    "<div class=\"ui styled accordion\"> <div class=\"title\">     <i class=\"dropdown icon\"></i>\n",
    "Réponse </div> <div class=\"content\">"
   ],
   "id": "3f7b96ee-85cf-4813-a32d-5406bd3b76b3"
  },
  {
   "cell_type": "code",
   "execution_count": null,
   "metadata": {},
   "outputs": [],
   "source": [
    "let biparti l = \n",
    "     let l1, l2 = separe_liste l in intersection l1 l2 = []\n"
   ],
   "id": "3b578989-c7d2-40aa-89ea-d7dff09b8b91"
  },
  {
   "cell_type": "markdown",
   "metadata": {},
   "source": [
    "</div> </div>"
   ],
   "id": "92a638ed-fd4d-44f7-a830-ecd2034df2d6"
  },
  {
   "cell_type": "code",
   "execution_count": null,
   "metadata": {},
   "outputs": [],
   "source": [
    "assert(biparti [(0,3);(1,3);(1,4);(2,3);(2,4)]);\n",
    "assert(not (biparti [(0,3);(1,0);(1,4);(2,3);(2,4)]));\n",
    "\"OK\"\n"
   ],
   "id": "244f03e0-ae9e-4868-9824-f595a49395fa"
  },
  {
   "cell_type": "markdown",
   "metadata": {},
   "source": [
    "De cette liste d’arêtes représentant un graphe biparti à $n$ sommets, on\n",
    "va en déduire le graphe lui-même en le représentant sous la forme d’un\n",
    "couple `(ladj, sources)` où `ladj` est une représentation en liste\n",
    "d’adjacences et `sources` est un tableau de booléen indiquant si un\n",
    "sommet appartient à la première composante du graphe biparti, i.e. à la\n",
    "première composante d’un des couples d’arêtes.\n",
    "\n",
    "Ainsi, les sommets qui n’apparaissent pas dans les arêtes sont associés\n",
    "implicitement à la seconde composante, ce qui ne sera pas gênant dans la\n",
    "suite.\n",
    "\n",
    "**Question 6**\n",
    "\n",
    "Écrire une fonction `graphe_aretes : (int * int) list -> int list array`\n",
    "qui renvoie le tableau des listes d’adjacence d’un graphe **non\n",
    "orienté** donné sous la forme d’une liste d’arêtes.\n",
    "\n",
    "<div class=\"ui styled accordion\"> <div class=\"title\">     <i class=\"dropdown icon\"></i>\n",
    "Réponse </div> <div class=\"content\">"
   ],
   "id": "9d186903-8cec-46f7-8e9a-832526e8dfa5"
  },
  {
   "cell_type": "code",
   "execution_count": null,
   "metadata": {},
   "outputs": [],
   "source": [
    "let graphe_aretes l =\n",
    "    let n = nombre_sommets l in\n",
    "    let ladj = Array.make n [] in\n",
    "    List.iter (fun (a,b) -> \n",
    "        ladj.(a) <- b :: ladj.(a); ladj.(b) <- a :: ladj.(b)) l;\n",
    "    ladj\n"
   ],
   "id": "cee55e17-3619-4fe3-be00-dd84fdaa6946"
  },
  {
   "cell_type": "markdown",
   "metadata": {},
   "source": [
    "</div> </div>"
   ],
   "id": "ac50917d-68fd-44d6-8b93-0fe39ecbfb9d"
  },
  {
   "cell_type": "code",
   "execution_count": null,
   "metadata": {},
   "outputs": [],
   "source": [
    "assert(graphe_aretes [(0,3);(1,3);(1,4);(2,3);(2,4)]\n",
    "       = [|[3]; [4; 3]; [4; 3]; [2; 1; 0]; [2; 1]|]);\n",
    "assert(graphe_aretes [(0,8);(0,7);(2,6);(2,9);(3,8);(4,8);(4,9);(5,11)]\n",
    "    = [|[7; 8]; []; [9; 6]; [8]; [9; 8]; [11]; [2]; \n",
    "        [0]; [4; 3; 0]; [4; 2]; []; [5]|]);\n",
    "\"OK\"\n"
   ],
   "id": "4bc0e35e-a900-44c9-af51-ad47f2989978"
  },
  {
   "cell_type": "markdown",
   "metadata": {},
   "source": [
    "**Question 7**\n",
    "\n",
    "En déduire une fonction\n",
    "`graphe_biparti : (int * int) list -> int list array * bool array` qui\n",
    "renvoie le couple `(ladj, sources)` représentant le graphe biparti.\n",
    "\n",
    "<div class=\"ui styled accordion\"> <div class=\"title\">     <i class=\"dropdown icon\"></i>\n",
    "Réponse </div> <div class=\"content\">"
   ],
   "id": "65dcd688-02c9-4b6b-8a85-f0de67260e61"
  },
  {
   "cell_type": "code",
   "execution_count": null,
   "metadata": {},
   "outputs": [],
   "source": [
    "let graphe_biparti l =\n",
    "    let g = graphe_aretes l in\n",
    "    let s1, _ = separe_liste l in\n",
    "    let sources = Array.make (Array.length g) false in\n",
    "    List.iter (fun i -> sources.(i) <- true) s1;\n",
    "    g, sources\n"
   ],
   "id": "10deb506-0a0d-4fc6-81d4-153385223fa1"
  },
  {
   "cell_type": "markdown",
   "metadata": {},
   "source": [
    "</div> </div>"
   ],
   "id": "0ce52c30-a413-42ed-b519-084f486eac50"
  },
  {
   "cell_type": "code",
   "execution_count": null,
   "metadata": {},
   "outputs": [],
   "source": [
    "assert (snd(graphe_biparti [(0,3);(1,3);(1,4);(2,3);(2,4)])\n",
    "    = [|true; true; true; false; false|]);\n",
    "assert(snd(graphe_biparti [(0,8);(0,7);(2,6);(2,9);(3,8);(4,8);(4,9);(5,11)])\n",
    "    = [|true; false; true; true; true; true; false; false; \n",
    "        false; false; false; false|]);\n",
    "\"OK\"\n"
   ],
   "id": "3d00e487-1d11-485f-ae0a-750841973918"
  },
  {
   "cell_type": "markdown",
   "metadata": {},
   "source": [
    "## Couplage maximal\n",
    "\n",
    "On va programmer l’algorithme pour déterminer un couplage maximal par\n",
    "des bascules successives de chemins augmentant (voir reponse du théorème\n",
    "de Bergé).\n",
    "\n",
    "On va adopter deux représentations d’un couplage. La représentation\n",
    "élémentaire comme sous-liste de la liste d’arêtes du graphe.\n",
    "\n",
    "Par exemple `[ (0,3); (1,4) ]` est un couplage pour la liste d’arêtes\n",
    "données plus haut.\n",
    "\n",
    "**Question 8**\n",
    "\n",
    "Écrire une fonction `est_couplage : int list -> bool` qui vérifie si une\n",
    "liste d’arêtes est un couplage en vérifiant qu’il n’y a pas d’arêtes\n",
    "coincidentes.\n",
    "\n",
    "Votre fonction devra être de complexité **linéaire**.\n",
    "\n",
    "<div class=\"ui styled accordion\"> <div class=\"title\">     <i class=\"dropdown icon\"></i>\n",
    "Réponse </div> <div class=\"content\">"
   ],
   "id": "f063d582-71cd-49fa-bfe9-7c0dd647888e"
  },
  {
   "cell_type": "code",
   "execution_count": null,
   "metadata": {},
   "outputs": [],
   "source": [
    "let est_couplage el =\n",
    "    let n = nombre_sommets el in\n",
    "    let libres = Array.make n true in\n",
    "    let couplage = ref true in\n",
    "    List.iter (fun (x,y) ->\n",
    "        couplage := !couplage && libres.(x) && libres.(y);\n",
    "        libres.(x) <- false; libres.(y) <- false) el;\n",
    "    !couplage\n"
   ],
   "id": "9be2ec97-4e65-4ea8-9a85-8adbe59876a8"
  },
  {
   "cell_type": "markdown",
   "metadata": {},
   "source": [
    "</div> </div>"
   ],
   "id": "41d8a3d8-e9c3-40da-9bcc-a150e659975a"
  },
  {
   "cell_type": "code",
   "execution_count": null,
   "metadata": {},
   "outputs": [],
   "source": [
    "assert( est_couplage [(0,1);(2,3)] );\n",
    "assert( not(est_couplage [(0,1);(1,3)]) );\n",
    "\"OK\"\n"
   ],
   "id": "7ed1c4c6-4024-414b-8643-b948aa212968"
  },
  {
   "cell_type": "markdown",
   "metadata": {},
   "source": [
    "L’autre représentation est un tableau indiquant pour un sommet $i$, soit\n",
    "`Some j` quand on a une arête $\\{i,j\\}$ dans le couplage et `None`\n",
    "sinon. En effet, un couplage réalise une fonction partielle involutive\n",
    "de $A \\rightarrow A$.\n",
    "\n",
    "Ainsi, le tableau `[| Some 3; Some 4; None; Some 0; Some 1 |]` permet de\n",
    "représenter le couplage `[ (0,3); (1,4) ]` en considérant que les\n",
    "sommets sont dans $[|0;4|]$.\n",
    "\n",
    "**Question 9**\n",
    "\n",
    "Écrire des fonctions permettant de passer d’une représentation à une\n",
    "autre :\n",
    "\n",
    "-   `couplage_liste_vers_tab : (int * int) list -> int option array`\n",
    "-   `couplage_tab_vers_liste : bool array -> int option array -> (int * int) list`\n",
    "    ici, on a besoin de connaitre les sources pour choisir comment\n",
    "    placer les arêtes.\n",
    "\n",
    "<div class=\"ui styled accordion\"> <div class=\"title\">     <i class=\"dropdown icon\"></i>\n",
    "Réponse </div> <div class=\"content\">"
   ],
   "id": "049294fa-bd05-4782-a9a6-77dfea2a37a3"
  },
  {
   "cell_type": "code",
   "execution_count": null,
   "metadata": {},
   "outputs": [],
   "source": [
    "let couplage_liste_vers_tab l =\n",
    "    let n = nombre_sommets l in\n",
    "    let couplage = Array.make n None in\n",
    "    List.iter (fun (a,b) ->\n",
    "        couplage.(a) <- Some b;\n",
    "        couplage.(b) <- Some a) l;\n",
    "    couplage\n",
    "\n",
    "let couplage_tab_vers_liste sources couplage =\n",
    "    let cpl_aretes = ref [] in\n",
    "    let n = Array.length sources in\n",
    "    for i = 0 to n-1 do\n",
    "        if sources.(i)\n",
    "        then match couplage.(i) with\n",
    "             | None -> ()\n",
    "             | Some j -> cpl_aretes := (i,j) :: !cpl_aretes\n",
    "    done;\n",
    "    !cpl_aretes\n"
   ],
   "id": "d2054b82-1024-439b-8b23-cce19310cf0b"
  },
  {
   "cell_type": "markdown",
   "metadata": {},
   "source": [
    "</div> </div>"
   ],
   "id": "d47b2a9b-8559-4236-81df-9dd519f7024c"
  },
  {
   "cell_type": "code",
   "execution_count": null,
   "metadata": {},
   "outputs": [],
   "source": [
    "assert( couplage_liste_vers_tab [ (0,3); (1,4) ] \n",
    "    = [| Some 3; Some 4; None; Some 0; Some 1 |]);\n",
    "assert( couplage_tab_vers_liste\n",
    "    [| true; true; true; false; false |]\n",
    "    [| Some 3; Some 4; None; Some 0; Some 1 |]\n",
    "    = [ (1,4); (0,3) ]);\n",
    "\"OK\"\n"
   ],
   "id": "15851093-02ff-4853-b701-bf45b8ad9e73"
  },
  {
   "cell_type": "markdown",
   "metadata": {},
   "source": [
    "On va définir ici le graphe résiduel associé à un couplage de manière\n",
    "implicite avec une fonction permettant de décider si une arête\n",
    "$x \\rightarrow y$ est dans le graphe résiduel.\n",
    "\n",
    "**Attention** il peut il y avoir des arêtes $x \\rightarrow z$ quand\n",
    "$(x, y)$ est dans le couplage.\n",
    "\n",
    "**Question 10**\n",
    "\n",
    "Écrire une fonction\n",
    "\n",
    "`arete_residuelle : bool array -> int option array -> int -> int -> bool`\n",
    "\n",
    "qui permet, en appeleant `arete_residuelle sources couplage x y` permet\n",
    "de décider si $x \\rightarrow y$ est dans le graphe résiduel.\n",
    "\n",
    "<div class=\"ui styled accordion\"> <div class=\"title\">     <i class=\"dropdown icon\"></i>\n",
    "Réponse </div> <div class=\"content\">"
   ],
   "id": "59da4fd8-f0f9-4522-99a8-408bedd068a2"
  },
  {
   "cell_type": "code",
   "execution_count": null,
   "metadata": {},
   "outputs": [],
   "source": [
    "let arete_residuelle sources couplage x y =\n",
    "    if sources.(x)\n",
    "    then couplage.(x) <> Some y\n",
    "    else couplage.(x) = Some y\n"
   ],
   "id": "79044819-7b50-436d-b6f3-43664e392721"
  },
  {
   "cell_type": "markdown",
   "metadata": {},
   "source": [
    "</div> </div>"
   ],
   "id": "4c57bc85-63d8-4e09-89b2-3eb644d03181"
  },
  {
   "cell_type": "code",
   "execution_count": null,
   "metadata": {},
   "outputs": [],
   "source": [
    "assert(arete_residuelle [|true;false|] [|None;None|] 0 1);\n",
    "assert(not (arete_residuelle [|true;false|] [|None;None|] 1 0));\n",
    "assert(arete_residuelle [|true;false|] [|Some 1; Some 0|] 1 0);\n",
    "assert(not (arete_residuelle [|true;false|] [|Some 1; Some 0|] 0 1));\n",
    "assert(arete_residuelle [|true;true;false;false|] [|Some 2; None; Some 0; None|] 0 3);\n",
    "assert(not (arete_residuelle [|true;true;false;false|] [|Some 2; None; Some 0; None|] 0 2));\n",
    "\"OK\"\n"
   ],
   "id": "9abaaae5-eff6-4746-885d-58a1088dc674"
  },
  {
   "cell_type": "markdown",
   "metadata": {},
   "source": [
    "Pour chercher un chemin augmentant, on va commencer par effectuer un\n",
    "parcours en profondeur récursif dans un graphe avec une notion d’arête\n",
    "implicite, une fonction comme `arete_residuelle`, et on va remplir un\n",
    "tableau de prédécesseur où $x$ est le prédécesseur de $y$ si c’est le\n",
    "DFS depuis $x$ qui a appelé le DFS depuis $y$.\n",
    "\n",
    "**Dans toute la suite, on suppose que le prédécesseur de $x$ est $x$\n",
    "lui-même quand on a lancé le DFS initialement depuis le sommet $x$.**\n",
    "\n",
    "**Question 11**\n",
    "\n",
    "Écrire une fonction\n",
    "\n",
    "`dfs : int list array -> (int -> int -> bool) -> int option array -> int -> unit`\n",
    "\n",
    "telle que `dfs g est_arete pred x` effectue un DFS depuis le sommet `x`\n",
    "dans le graphe donné sous forme de listes d’adjacence par `g`, avec une\n",
    "fonction `est_arete` permettant de tester si une arête est à considérer\n",
    "dans le parcours et en remplissant le tableau des prédécesseurs `pred`,\n",
    "qui est un `int option array` car la valeur vaut `None` tant que le\n",
    "sommet n’est pas découvert.\n",
    "\n",
    "*Rappel* : on a spécifié que `pred.(x)` valait `Some x` si `x` était un\n",
    "des sommets initiaux sur lesquels on a commencé le DFS.\n",
    "\n",
    "<div class=\"ui styled accordion\"> <div class=\"title\">     <i class=\"dropdown icon\"></i>\n",
    "Réponse </div> <div class=\"content\">"
   ],
   "id": "a6a2b2bd-7e74-4f12-8cd3-813cfaa742b5"
  },
  {
   "cell_type": "code",
   "execution_count": null,
   "metadata": {},
   "outputs": [],
   "source": [
    "let rec dfs_impl g est_arete pred x =\n",
    "    List.iter (fun y ->\n",
    "        if pred.(y) = None && est_arete x y\n",
    "        then begin\n",
    "            pred.(y) <- Some x;\n",
    "            dfs_impl g est_arete pred y\n",
    "        end)\n",
    "        g.(x)\n"
   ],
   "id": "12c8cdf6-6d44-4ec2-b741-1f98966f195a"
  },
  {
   "cell_type": "markdown",
   "metadata": {},
   "source": [
    "</div> </div>\n",
    "\n",
    "**Question 12**\n",
    "\n",
    "Écrire une fonction\n",
    "\n",
    "`remonte : int option array -> int -> int list`\n",
    "\n",
    "telle que `remonte pred x` renvoie la liste des sommets allant du point\n",
    "de départ d’un DFS ayant rempli `pred` jusqu’à x en remontant la\n",
    "relation de prédecesseurs.\n",
    "\n",
    "<div class=\"ui styled accordion\"> <div class=\"title\">     <i class=\"dropdown icon\"></i>\n",
    "Réponse </div> <div class=\"content\">"
   ],
   "id": "01157bb1-0db4-459d-a585-017a5757238a"
  },
  {
   "cell_type": "code",
   "execution_count": null,
   "metadata": {},
   "outputs": [],
   "source": [
    "let remonte pred x =\n",
    "    let rec aux pred y acc =\n",
    "        match pred.(y) with\n",
    "        | None -> failwith \"Impossible\"\n",
    "        | Some x when x = y -> y::acc\n",
    "        | Some x -> aux pred x (y::acc)\n",
    "    in\n",
    "    aux pred x []\n"
   ],
   "id": "5d19f453-d639-40b2-b252-7ce1fe3efe76"
  },
  {
   "cell_type": "markdown",
   "metadata": {},
   "source": [
    "</div> </div>\n",
    "\n",
    "On considère qu’on a effectué un DFS dans le graphe résiduel associé à\n",
    "un couplage depuis un sommet et on cherche maintenant à écrire une\n",
    "fonction qui permet déterminer s’il existe un chemin depuis ce sommet\n",
    "vers un sommet **libre** dans les cibles, i.e. les sommets **qui ne sont\n",
    "pas des sources**.\n",
    "\n",
    "**Question 13**\n",
    "\n",
    "Écrire une fonction\n",
    "\n",
    "`cherche_chemin : int option array -> bool array -> int option array -> int -> int list option`\n",
    "\n",
    "telle que `cherche_chemin pred sources couplage depart` renvoie\n",
    "`Some phi` si `phi` est la liste des sommets visités dans un chemin du\n",
    "graphe résiduel de `depart` un sommet cible **libre** pour `couplage` et\n",
    "`None` sinon.\n",
    "\n",
    "<div class=\"ui styled accordion\"> <div class=\"title\">     <i class=\"dropdown icon\"></i>\n",
    "Réponse </div> <div class=\"content\">"
   ],
   "id": "5fc725af-7481-4b19-acca-9ca6ef4249a1"
  },
  {
   "cell_type": "code",
   "execution_count": null,
   "metadata": {},
   "outputs": [],
   "source": [
    "let cherche_chemin pred sources couplage depart =\n",
    "    let rec aux i =\n",
    "        if i = Array.length sources\n",
    "        then None\n",
    "        else if not sources.(i) && couplage.(i) = None \n",
    "                                && pred.(i) <> None\n",
    "             then let phi = remonte pred i in\n",
    "                  if List.hd phi = depart\n",
    "                  then Some phi\n",
    "                  else aux (i+1)\n",
    "             else aux (i+1)\n",
    "    in\n",
    "    aux 0\n"
   ],
   "id": "2a32b163-0634-4de8-a44c-7e9af669be27"
  },
  {
   "cell_type": "markdown",
   "metadata": {},
   "source": [
    "</div> </div>\n",
    "\n",
    "**Question 14**\n",
    "\n",
    "Écrire une fonction\n",
    "\n",
    "`chemin_augmentant : int list array -> bool array -> int option array -> int -> int list option`\n",
    "\n",
    "telle que `chemin_augmentant g sources couplage depart` renvoie\n",
    "`Some phi` où `phi` est la liste des sommets d’un chemin augmentant issu\n",
    "de la source `depart` (et donc arrivant nécessairement dans un sommet\n",
    "cible **libre**).\n",
    "\n",
    "<div class=\"ui styled accordion\"> <div class=\"title\">     <i class=\"dropdown icon\"></i>\n",
    "Réponse </div> <div class=\"content\">"
   ],
   "id": "76a3b0d7-0c2e-4b06-9359-ee3ce79d8692"
  },
  {
   "cell_type": "code",
   "execution_count": null,
   "metadata": {},
   "outputs": [],
   "source": [
    "let chemin_augmentant g sources couplage depart =\n",
    "    let n = Array.length g in\n",
    "    let pred = Array.make n None in\n",
    "    pred.(depart) <- Some depart;\n",
    "    dfs_impl g (arete_residuelle sources couplage) pred depart;\n",
    "    cherche_chemin pred sources couplage depart\n"
   ],
   "id": "a1eb51b0-2abc-4463-a861-1c814da7cb92"
  },
  {
   "cell_type": "markdown",
   "metadata": {},
   "source": [
    "</div> </div>\n",
    "\n",
    "**Question 15**\n",
    "\n",
    "Écrire une fonction\n",
    "\n",
    "`bascule_chemin : int option array -> int list -> unit`\n",
    "\n",
    "telle que `bascule_chemin couplage chemin` où `chemin` est un chemin\n",
    "augmentant pour le couplage, va faire la bascule de toutes les arêtes de\n",
    "`chemin` : celles dans le couplage sont enlevées et celles qui n’y sont\n",
    "pas sont rajoutées.\n",
    "\n",
    "**Indice** : seule la parité permet de déterminer celles qui y sont dans\n",
    "la mesure où on a un chemin augmentant.\n",
    "\n",
    "<div class=\"ui styled accordion\"> <div class=\"title\">     <i class=\"dropdown icon\"></i>\n",
    "Réponse </div> <div class=\"content\">"
   ],
   "id": "2c774fe7-f09f-466e-95d8-1ae197a84f35"
  },
  {
   "cell_type": "code",
   "execution_count": null,
   "metadata": {},
   "outputs": [],
   "source": [
    "let rec bascule_chemin couplage chemin =\n",
    "    match chemin with\n",
    "    | s::t::q -> couplage.(s) <- Some t; couplage.(t) <- Some s; bascule_chemin couplage q\n",
    "    | [] -> ()\n",
    "    | [_] -> failwith \"Le chemin est forcément de longueur impaire\"\n"
   ],
   "id": "11d989e7-b7d9-44d9-a4dc-c103f672c1a1"
  },
  {
   "cell_type": "markdown",
   "metadata": {},
   "source": [
    "</div> </div>\n",
    "\n",
    "**Question 16**\n",
    "\n",
    "En déduire une fonction,\n",
    "\n",
    "`couplage_maximal : (int * int) list -> (int * int) list`\n",
    "\n",
    "telle que `couplage_maximal aretes`, où `aretes` est un graphe biparti\n",
    "donné sous forme d’une liste d’arêtes, renvoie un couplage maximal sous\n",
    "la forme d’une liste d’arêtes.\n",
    "\n",
    "Pour cela, on va itérer sur chaque sommet source en cherchant un chemin\n",
    "augmentant depuis celui-ci et en le basculant. Quand on aura traité\n",
    "toutes les sources, on est certain qu’il n’y a plus de chemin\n",
    "augmentant.\n",
    "\n",
    "<div class=\"ui styled accordion\"> <div class=\"title\">     <i class=\"dropdown icon\"></i>\n",
    "Réponse </div> <div class=\"content\">"
   ],
   "id": "a3166b56-be5d-4569-b5fb-7e1b6c059fe1"
  },
  {
   "cell_type": "code",
   "execution_count": null,
   "metadata": {},
   "outputs": [],
   "source": [
    "let couplage_maximal l =\n",
    "    let g, sources = graphe_biparti l in\n",
    "    let n = Array.length g in\n",
    "    let couplage = Array.make n None in\n",
    "    for i = 0 to n-1 do\n",
    "        if sources.(i) && couplage.(i) = None\n",
    "        then match chemin_augmentant g sources couplage i with\n",
    "           | None -> ()\n",
    "           | Some ch -> bascule_chemin couplage ch\n",
    "    done;\n",
    "    couplage_tab_vers_liste sources couplage\n"
   ],
   "id": "25f07e37-d89a-42b6-ac11-ba24d0bd79a8"
  },
  {
   "cell_type": "markdown",
   "metadata": {},
   "source": [
    "</div> </div>"
   ],
   "id": "0d88e3d2-fc5f-4675-8cf6-a3ffeae870ed"
  },
  {
   "cell_type": "code",
   "execution_count": null,
   "metadata": {},
   "outputs": [],
   "source": [
    "assert(couplage_maximal [(0,3);(1,3);(1,4);(2,3);(2,4)] \n",
    "    = [(1,4);(0,3)]);\n",
    "assert(couplage_maximal [(0,8);(0,7);(2,6);(2,9);(3,8);(4,8);(4,9);(5,11)]\n",
    "    = [(5, 11); (4, 9); (3, 8); (2, 6); (0, 7)]);\n",
    "\"OK\"\n"
   ],
   "id": "24ef43dc-07fd-4a20-87d1-dd6665ccf35b"
  },
  {
   "cell_type": "markdown",
   "metadata": {},
   "source": [
    "!reponses"
   ],
   "id": "3e032239-75c8-4602-9f9f-348822063667"
  }
 ],
 "nbformat": 4,
 "nbformat_minor": 5,
 "metadata": {}
}
