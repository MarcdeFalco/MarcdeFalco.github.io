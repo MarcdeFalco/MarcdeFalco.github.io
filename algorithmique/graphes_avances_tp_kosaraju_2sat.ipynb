{
 "cells": [
  {
   "cell_type": "markdown",
   "metadata": {},
   "source": [
    "# Algorithme de Kosaraju et 2-SAT\n",
    "\n",
    "!jupyterlink\n",
    "\n",
    "## Kosaraju\n",
    "\n",
    "On va considérer un type `graphe` où les sommets ne sont pas forcément\n",
    "des entiers et où on peut stocke une table de hachage pour faire la\n",
    "correspondance entre la valeur d'un sommet et son indice."
   ],
   "id": "acc38a58-e4b5-4b80-930d-ece9d748de16"
  },
  {
   "cell_type": "code",
   "execution_count": null,
   "metadata": {},
   "outputs": [],
   "source": [
    "type 'a graphe = {\n",
    "    sommets : 'a array;\n",
    "    sommets_indices : ('a, int) Hashtbl.t;\n",
    "    ladj : int list array\n",
    "}"
   ],
   "id": "3764a882-7628-45e7-84c1-7194f07d2e81"
  },
  {
   "cell_type": "markdown",
   "metadata": {},
   "source": [
    "**Question 1**\n",
    "\n",
    "Écrire une fonction qui étant donné un tableau `t` va construire la\n",
    "table des associations `t.(i) -> i` qui permettra ainsi de remonter du\n",
    "tableau à l'indice.\n",
    "\n",
    "**Note** C'est le moment de retourner apprendre par coeur la doc de\n",
    "OCaml https://v2.ocaml.org/api/Hashtbl.html\n",
    "\n",
    "<div class=\"ui styled accordion\"> <div class=\"title\">     <i class=\"dropdown icon\"></i>\n",
    "Réponse </div> <div class=\"content\">"
   ],
   "id": "d9376daf-3ee2-4df1-9b41-e3d57bad3a8a"
  },
  {
   "cell_type": "code",
   "execution_count": null,
   "metadata": {},
   "outputs": [],
   "source": [
    "let table_indices (t:'a array) : ('a, int) Hashtbl.t =\n",
    "    let h = Hashtbl.create (Array.length t) in\n",
    "    for i = 0 to Array.length t - 1 do\n",
    "        Hashtbl.add h t.(i) i\n",
    "    done;\n",
    "    h"
   ],
   "id": "a1440cf0-1e92-4704-9938-97333fb5b9fd"
  },
  {
   "cell_type": "markdown",
   "metadata": {},
   "source": [
    "</div> </div>\n",
    "\n",
    "**Question 2**\n",
    "\n",
    "Écrire une fonction `indice` qui prend un graphe et un sommet et renvoie\n",
    "son indice en utilisant la table `sommets_indices`.\n",
    "\n",
    "<div class=\"ui styled accordion\"> <div class=\"title\">     <i class=\"dropdown icon\"></i>\n",
    "Réponse </div> <div class=\"content\">"
   ],
   "id": "45e26d5c-b6cb-4e60-a989-197378f1f0e4"
  },
  {
   "cell_type": "code",
   "execution_count": null,
   "metadata": {},
   "outputs": [],
   "source": [
    "let indice g a = Hashtbl.find g.sommets_indices a"
   ],
   "id": "fc4a77e7-c1c2-4aec-9aed-1d7be01102e4"
  },
  {
   "cell_type": "markdown",
   "metadata": {},
   "source": [
    "</div> </div>\n",
    "\n",
    "**Question 3**\n",
    "\n",
    "En déduire une fonction `cree_graphe` qui va prendre un tableau\n",
    "`sommets` et créer un graphe sans arêtes dont ce sont les sommets.\n",
    "\n",
    "<div class=\"ui styled accordion\"> <div class=\"title\">     <i class=\"dropdown icon\"></i>\n",
    "Réponse </div> <div class=\"content\">"
   ],
   "id": "8283baa0-3966-471b-8acf-c232536ab868"
  },
  {
   "cell_type": "code",
   "execution_count": null,
   "metadata": {},
   "outputs": [],
   "source": [
    "let cree_graphe sommets =\n",
    "    {\n",
    "        sommets = sommets;\n",
    "        sommets_indices = table_indices sommets;\n",
    "        ladj = Array.make (Array.length sommets) []\n",
    "    }"
   ],
   "id": "9ae37825-8d4a-4fec-b3ae-543c9a7ac412"
  },
  {
   "cell_type": "markdown",
   "metadata": {},
   "source": [
    "</div> </div>\n",
    "\n",
    "**Question 4**\n",
    "\n",
    "Écrire une fonction `ajoute_arete` telle que `ajoute_arete g a b` ajoute\n",
    "l'arête `a -> b` où les sommets **sont donnés par leur valeur et non pas\n",
    "par leur indice**.\n",
    "\n",
    "<div class=\"ui styled accordion\"> <div class=\"title\">     <i class=\"dropdown icon\"></i>\n",
    "Réponse </div> <div class=\"content\">"
   ],
   "id": "21fa1aea-aa36-446e-84b9-5aec2e44dcae"
  },
  {
   "cell_type": "code",
   "execution_count": null,
   "metadata": {},
   "outputs": [],
   "source": [
    "let ajoute_arete g a b =\n",
    "    let ia = indice g a in\n",
    "    let ib = indice g b in\n",
    "    if not (List.mem ib g.ladj.(ia))\n",
    "    then g.ladj.(ia) <- ib :: g.ladj.(ia)"
   ],
   "id": "7f0d402a-7f82-42ab-9463-8714f4910006"
  },
  {
   "cell_type": "markdown",
   "metadata": {},
   "source": [
    "</div> </div>\n",
    "\n",
    "Les deux cellules suivantes permettent de définir le graphe vu dans le\n",
    "cours en exemple."
   ],
   "id": "16794ecd-465a-4aa5-9c67-392d25b397c0"
  },
  {
   "cell_type": "code",
   "execution_count": null,
   "metadata": {},
   "outputs": [],
   "source": [
    "let ex_cours = cree_graphe [|'a';'b';'c';'d';'e';'f';'g';'h';'i';'j';'k';'l';'m';'n';'o';'p'|]"
   ],
   "id": "23c0cc51-df6e-4cbe-b660-8ba8ab2278c6"
  },
  {
   "cell_type": "code",
   "execution_count": null,
   "metadata": {},
   "outputs": [],
   "source": [
    "List.iter (fun (a,b) -> ajoute_arete ex_cours a b)\n",
    "    [('a','b'); ('b','f'); ('g','a');('f','g');\n",
    "     ('c','h'); ('g','c'); ('d','c');('h','d');\n",
    "     ('e','f'); ('f','l'); ('e','i'); ('g','k');\n",
    "     ('h','l'); ('i','n'); ('j','m'); ('j','k');\n",
    "     ('k','l'); ('k','h'); ('l','o'); ('l','p');\n",
    "     ('m','i'); ('n','j'); ('n','o'); ('o','k')]"
   ],
   "id": "7a88644a-a009-4a4e-b38c-f863461c7521"
  },
  {
   "cell_type": "markdown",
   "metadata": {},
   "source": [
    "**Question 5**\n",
    "\n",
    "Écrire une fonction `graphe_miroir` qui renvoie le graphe miroir du\n",
    "graphe donné, c’est-à-dire qui renverse toutes les arêtes.\n",
    "\n",
    "<div class=\"ui styled accordion\"> <div class=\"title\">     <i class=\"dropdown icon\"></i>\n",
    "Réponse </div> <div class=\"content\">"
   ],
   "id": "f5ac619b-09ef-478c-aa30-ab863a9ec6a8"
  },
  {
   "cell_type": "code",
   "execution_count": null,
   "metadata": {},
   "outputs": [],
   "source": [
    "let graphe_miroir g =\n",
    "    let gr = {\n",
    "        sommets = g.sommets;\n",
    "        sommets_indices = g.sommets_indices;\n",
    "        ladj = Array.make (Array.length g.sommets) []\n",
    "    } in\n",
    "    for i = 0 to Array.length g.sommets - 1 do\n",
    "        List.iter (fun j -> gr.ladj.(j) <- i :: gr.ladj.(j)) g.ladj.(i)\n",
    "    done;\n",
    "    gr"
   ],
   "id": "ccef7e1d-12c6-4f0c-af14-5cbbae7a2d3c"
  },
  {
   "cell_type": "markdown",
   "metadata": {},
   "source": [
    "</div> </div>\n",
    "\n",
    "**Question 6**\n",
    "\n",
    "Écrire une fonction `dfs` qui va parcourir en profondeur un graphe et\n",
    "appliquer une fonction de **post-traitement**. Pas besoin de noter les\n",
    "temps de sortie puisqu’ils correspondent au moment où on effectue ce\n",
    "traitement.\n",
    "\n",
    "<div class=\"ui styled accordion\"> <div class=\"title\">     <i class=\"dropdown icon\"></i>\n",
    "Réponse </div> <div class=\"content\">"
   ],
   "id": "9128b7ca-f488-4dd1-bc38-60e8e53cd6ee"
  },
  {
   "cell_type": "code",
   "execution_count": null,
   "metadata": {},
   "outputs": [],
   "source": [
    "let rec dfs g trait visites x =\n",
    "    if not visites.(x)\n",
    "    then begin\n",
    "        visites.(x) <- true;\n",
    "        List.iter (fun y ->\n",
    "            if not visites.(y)\n",
    "            then dfs g trait visites y\n",
    "        ) g.ladj.(x);\n",
    "        trait x\n",
    "    end"
   ],
   "id": "f25d61e4-ae16-454f-b644-3451e78f0eb4"
  },
  {
   "cell_type": "markdown",
   "metadata": {},
   "source": [
    "</div> </div>\n",
    "\n",
    "**Question 7**\n",
    "\n",
    "En déduire une fonction `kosaraju` qui renvoie un tableau indiquant le\n",
    "numéro de la composante fortement connexe de chaque sommet.\n",
    "\n",
    "Attention, cette fonction va être un peu compliquée, on indique les\n",
    "grandes lignes ici :\n",
    "\n",
    "-   on initialise un tableau de visites\n",
    "-   on va construire une liste `ordre` des indices de sommets rencontrés\n",
    "    lors d'un premier DFS de tout le graphe grâce à un post-traitement\n",
    "    (avec une référence)\n",
    "-   on calcule $G^R$ et on initialise un tableau de visites\n",
    "-   on fait des DFS dans $G^R$ mais en prenant les sommets depuis la\n",
    "    liste `ordre`. En post-traitement, on va remplir un tableau `comp`\n",
    "    où `comp.(x)` sera le numéro de la composante connexe de `x`.\n",
    "\n",
    "On commence par numéroter les composantes à 1.\n",
    "\n",
    "<div class=\"ui styled accordion\"> <div class=\"title\">     <i class=\"dropdown icon\"></i>\n",
    "Réponse </div> <div class=\"content\">"
   ],
   "id": "91fe62f4-0116-4f60-b65c-4de7ab457a8c"
  },
  {
   "cell_type": "code",
   "execution_count": null,
   "metadata": {},
   "outputs": [],
   "source": [
    "let kosaraju g =\n",
    "    let n = Array.length g.sommets in\n",
    "    let ordre = ref [] in\n",
    "    let visites = Array.make n false in\n",
    "    for i = 0 to n-1 do\n",
    "        if not visites.(i)\n",
    "        then dfs g (fun x -> ordre := x :: !ordre) visites i\n",
    "    done;\n",
    "    let gr = graphe_miroir g in\n",
    "    let visites = Array.make n false in\n",
    "    let ncomp = ref 0 in\n",
    "    let comp = Array.make n 0 in\n",
    "    List.iter (fun ia ->\n",
    "        if not visites.(ia)\n",
    "        then begin\n",
    "            incr ncomp;\n",
    "            dfs gr (fun x -> comp.(x) <- !ncomp) visites ia\n",
    "        end\n",
    "        ) !ordre;\n",
    "    comp"
   ],
   "id": "d8c58547-45f5-404c-ad41-1fd6298d09eb"
  },
  {
   "cell_type": "markdown",
   "metadata": {},
   "source": [
    "</div> </div>"
   ],
   "id": "fbc7b2ed-aa70-4a4e-be8b-6a9934877f4d"
  },
  {
   "cell_type": "code",
   "execution_count": null,
   "metadata": {},
   "outputs": [],
   "source": [
    "assert (kosaraju ex_cours = [|3; 3; 4; 4; 1; 3; 3; 4; 2; 2; 4; 4; 2; 2; 4; 5|]);\n",
    "\"OK\""
   ],
   "id": "861cbe10-11b1-448a-a14d-4992a9939073"
  },
  {
   "cell_type": "markdown",
   "metadata": {},
   "source": [
    "**Question 8**\n",
    "\n",
    "Cette représentation des composantes va nous être utile mais elle n’est\n",
    "pas très maniable. Écrire une fonction `listes_comp` telle que\n",
    "`listes_comp sommets comp` renvoie le tableau des composantes données\n",
    "sous forme de listes de sommets.\n",
    "\n",
    "<div class=\"ui styled accordion\"> <div class=\"title\">     <i class=\"dropdown icon\"></i>\n",
    "Réponse </div> <div class=\"content\">"
   ],
   "id": "fabdee75-500c-4173-b5bc-05a4cfbdb007"
  },
  {
   "cell_type": "code",
   "execution_count": null,
   "metadata": {},
   "outputs": [],
   "source": [
    "let listes_comp sommets comp =\n",
    "    let n = Array.fold_left max 0 comp in\n",
    "    let comp_l = Array.make n [] in\n",
    "    for i = 0 to Array.length comp - 1 do\n",
    "        let n = comp.(i) in\n",
    "        comp_l.(n-1) <- sommets.(i) :: comp_l.(n-1)\n",
    "    done;\n",
    "    comp_l"
   ],
   "id": "e0ef0846-3afe-466d-afb2-3ba4b539505b"
  },
  {
   "cell_type": "markdown",
   "metadata": {},
   "source": [
    "</div> </div>"
   ],
   "id": "d4e6c5cf-8daa-4fe5-a84f-940f0c852a68"
  },
  {
   "cell_type": "code",
   "execution_count": null,
   "metadata": {},
   "outputs": [],
   "source": [
    "assert (listes_comp ex_cours.sommets (kosaraju ex_cours) = \n",
    "    [|['e']; ['n'; 'm'; 'j'; 'i']; \n",
    "      ['g'; 'f'; 'b'; 'a'];  ['o'; 'l'; 'k'; 'h'; 'd'; 'c']; ['p']|]);\n",
    "\"OK\""
   ],
   "id": "aef9a61b-7e60-4319-bf13-ce57d9481610"
  },
  {
   "cell_type": "markdown",
   "metadata": {},
   "source": [
    "**Question 9**\n",
    "\n",
    "On va résoudre 2-SAT en utilisant l’algorithme de Kosaraju. Tout d’abord\n",
    "on rappelle que les formules de 2-SAT ne comportent que deux littéraux\n",
    "dans chaque clause.\n",
    "\n",
    "Exemple :\n",
    "$f = (a \\vee \\neg b) \\wedge (\\neg a \\vee b) \\wedge (\\neg a \\vee \\neg b) \\wedge (a \\vee \\neg c)$\n",
    "\n",
    "On reprend un type proche de ce qui a été fait l'an dernier, sauf que\n",
    "les clauses sont des couples de littéraux."
   ],
   "id": "f23e14f0-6ba4-4dc9-a9ac-b2b7170964d1"
  },
  {
   "cell_type": "code",
   "execution_count": null,
   "metadata": {},
   "outputs": [],
   "source": [
    "type lit = Pos of char | Neg of char\n",
    "type clause = lit * lit\n",
    "type formule = clause list"
   ],
   "id": "c4ee51bd-c9bd-488f-9147-9c1a9fac9737"
  },
  {
   "cell_type": "markdown",
   "metadata": {},
   "source": [
    "La formule donnée au dessus s'écrit alors :"
   ],
   "id": "967d1968-54ae-4bcf-9761-b2bb4905796e"
  },
  {
   "cell_type": "code",
   "execution_count": null,
   "metadata": {},
   "outputs": [],
   "source": [
    "let f = [ (Pos 'a', Neg 'b'); (Neg 'a', Pos 'b'); (Neg 'a', Neg 'b'); (Pos 'a', Neg 'c') ]"
   ],
   "id": "22beed4b-b528-4edd-b3d9-be7e46a3fdf6"
  },
  {
   "cell_type": "markdown",
   "metadata": {},
   "source": [
    "**Question 10**\n",
    "\n",
    "Écrire une fonction `label : lit -> char` qui renvoie l'étiquette d'un\n",
    "littéral et une fonction `neg : lit -> lit` qui renvoie le littéral\n",
    "opposé d'un littéral donné.\n",
    "\n",
    "<div class=\"ui styled accordion\"> <div class=\"title\">     <i class=\"dropdown icon\"></i>\n",
    "Réponse </div> <div class=\"content\">"
   ],
   "id": "ff9158fa-f527-45b2-aa73-5ba573e837b1"
  },
  {
   "cell_type": "code",
   "execution_count": null,
   "metadata": {},
   "outputs": [],
   "source": [
    "let label = function Pos a | Neg a -> a"
   ],
   "id": "a1253f82-bfc4-4d1e-8f70-9cc4dbfe2dff"
  },
  {
   "cell_type": "code",
   "execution_count": null,
   "metadata": {},
   "outputs": [],
   "source": [
    "let neg = function Pos a -> Neg a | Neg a -> Pos a"
   ],
   "id": "e5c51df8-37ab-44d7-a5b8-3d7ca6713a25"
  },
  {
   "cell_type": "markdown",
   "metadata": {},
   "source": [
    "</div> </div>\n",
    "\n",
    "**Question 11**\n",
    "\n",
    "Écrire une fonction `variables` qui renvoie les étiquettes de tous les\n",
    "littéraux **sans répétitions**. On pourra utiliser\n",
    "`List.sort_uniq Stdlib.compare`.\n",
    "\n",
    "<div class=\"ui styled accordion\"> <div class=\"title\">     <i class=\"dropdown icon\"></i>\n",
    "Réponse </div> <div class=\"content\">"
   ],
   "id": "894ed330-2d14-46fc-b966-bdf41a0dad07"
  },
  {
   "cell_type": "code",
   "execution_count": null,
   "metadata": {},
   "outputs": [],
   "source": [
    "let rec variables f =\n",
    "    let rec var_aux f =\n",
    "        match f with\n",
    "        | [] -> []\n",
    "        | c::f' -> var_clause c @ var_aux f'\n",
    "    and var_clause (l1,l2) = [label l1; label l2]\n",
    "    in List.sort_uniq Stdlib.compare (var_aux f)"
   ],
   "id": "506a7a95-8887-42ba-93d0-4978f593291c"
  },
  {
   "cell_type": "markdown",
   "metadata": {},
   "source": [
    "</div> </div>\n",
    "\n",
    "**Question 12**\n",
    "\n",
    "On peut écrire $a \\vee b$ sous la forme implicative\n",
    "$(\\neg a \\rightarrow b) \\wedge(\\neg b \\rightarrow a)$.\n",
    "\n",
    "En faisant cela, on peut alors construire un graphe sur les littéraux où\n",
    "$l \\rightarrow l'$ quand cette implication apparait dans la formule.\n",
    "\n",
    "Écrire une fonction `implication_graphe` qui étant donnée `f` renvoie ce\n",
    "graphe.\n",
    "\n",
    "<div class=\"ui styled accordion\"> <div class=\"title\">     <i class=\"dropdown icon\"></i>\n",
    "Réponse </div> <div class=\"content\">"
   ],
   "id": "e780cea0-8f28-4255-aebf-cddf525e8a8f"
  },
  {
   "cell_type": "code",
   "execution_count": null,
   "metadata": {},
   "outputs": [],
   "source": [
    "let implication_graphe f =\n",
    "    let v = variables f in\n",
    "    let s = List.concat (List.map (fun x -> [Pos x; Neg x]) v) in\n",
    "    let sommets = Array.of_list s in\n",
    "    let g = cree_graphe sommets in\n",
    "    List.iter (fun (a,b) ->\n",
    "        ajoute_arete g (neg a) b;\n",
    "        ajoute_arete g (neg b) a\n",
    "    ) f;\n",
    "    g"
   ],
   "id": "edbf63e4-a337-4991-9853-4eac75e87c1c"
  },
  {
   "cell_type": "markdown",
   "metadata": {},
   "source": [
    "</div> </div>\n",
    "\n",
    "On cherche alors une valuation des variables qui soit telle qu'il n'y\n",
    "ait pas une arête $\\top \\rightarrow \\perp$ entre un littéral vrai et un\n",
    "littéral faux. En effet, toutes les autres affectations vérifieront la\n",
    "clause correspondante. Ainsi, tous les littéraux d'une composante\n",
    "fortement connexe doivent nécessairement avoir la même valeur de vérité.\n",
    "Si $C \\rightarrow C'$ pour deux composantes, on ne peut pas affecter la\n",
    "valeur vraie à $C$ et fausse à $C'$. On remarque que le graphe est\n",
    "symétrique par contraposition, donc il existe une composante niée\n",
    "$\\neg C$ pour chaque composante $C$.\n",
    "\n",
    "L'idée pour résoudre 2-SAT est donc de calculer les compoantes fortement\n",
    "connexes et de remonter leur DAG en affectant vraie à la première\n",
    "composante rencontrée entre $C$ et $\\neg C$.\n",
    "\n",
    "Pour résoudre 2-SAT, on va appliquer Kosaraju sur le graphe\n",
    "d'implication de la formule."
   ],
   "id": "ad7f964b-f726-4f2e-a017-76864d8eb0df"
  },
  {
   "cell_type": "code",
   "execution_count": null,
   "metadata": {},
   "outputs": [],
   "source": [
    "kosaraju (implication_graphe f)"
   ],
   "id": "d008e01c-8a1e-4542-9409-4a31069c8e42"
  },
  {
   "cell_type": "markdown",
   "metadata": {},
   "source": [
    "Sur ce graphe on remarque que si deux littéraux opposés sont dans la\n",
    "même composante fortement connexe, alors la formule est insoluble. Si ce\n",
    "n'est pas le cas, on peut démontrer que la valuation suivante fonctionne\n",
    ":\n",
    "\n",
    "$$\\forall a \\in V, v(a) = \\begin{cases} \\top & \\text{si } comp(a) > comp(\\neg a) \\\\\n",
    "\\perp & \\text{sinon }\\end{cases}$$\n",
    "\n",
    "Cette affirmation repose sur deux propriétés :\n",
    "\n",
    "-   les composantes sont numérotées dans l'ordre croissant du tri\n",
    "    topologique de leur DAG (graphe acyclique orienté)\n",
    "-   le graphe d'implication possède une symétrie par contraposition : si\n",
    "    $a_1 \\rightarrow a_2 \\dots \\rightarrow a_n$ alors\n",
    "    $\\neg a_n \\rightarrow \\neg a_{n-1} \\dots \\rightarrow \\neg a_1$.\n",
    "\n",
    "**Question 13**\n",
    "\n",
    "En déduire une fonction `resout_2sat` qui étant donné une formule\n",
    "renvoie `None` si elle est insoluble, et `Some l` où `l` est une liste\n",
    "de couples `(variable,valeur)` représentant une valuation solution.\n",
    "\n",
    "<div class=\"ui styled accordion\"> <div class=\"title\">     <i class=\"dropdown icon\"></i>\n",
    "Réponse </div> <div class=\"content\">"
   ],
   "id": "de38e6ed-9e6d-4512-aeb7-e5dff3ec2682"
  },
  {
   "cell_type": "code",
   "execution_count": null,
   "metadata": {},
   "outputs": [],
   "source": [
    "let resout_2sat f =\n",
    "    let g = implication_graphe f in\n",
    "    let comp = kosaraju g in\n",
    "    let n = Array.length g.sommets / 2 in\n",
    "    let valuation = ref [] in\n",
    "    let insoluble = ref false in\n",
    "    for i = 0 to n-1 do\n",
    "        let a = label g.sommets.(2*i) in\n",
    "        if comp.(2*i) = comp.(2*i+1)\n",
    "        then insoluble := true;\n",
    "    done;\n",
    "    if !insoluble\n",
    "    then None\n",
    "    else Some !valuation"
   ],
   "id": "061eea70-4ef3-4563-b14f-a21f7a04d56a"
  },
  {
   "cell_type": "markdown",
   "metadata": {},
   "source": [
    "</div> </div>"
   ],
   "id": "f123d190-88ea-4c5d-972c-fed4b9215c73"
  },
  {
   "cell_type": "code",
   "execution_count": null,
   "metadata": {},
   "outputs": [],
   "source": [
    "resout_2sat f"
   ],
   "id": "3f9063b0-42c9-4bc5-83e7-6dbb609619a0"
  },
  {
   "cell_type": "markdown",
   "metadata": {},
   "source": [
    "!reponses"
   ],
   "id": "3580400b-cd53-414e-bee2-952fa347ecea"
  }
 ],
 "nbformat": 4,
 "nbformat_minor": 5,
 "metadata": {}
}
